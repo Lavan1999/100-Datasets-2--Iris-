{
  "nbformat": 4,
  "nbformat_minor": 0,
  "metadata": {
    "colab": {
      "provenance": [],
      "authorship_tag": "ABX9TyPxtzevWSnHhEBBrBldS4J4",
      "include_colab_link": true
    },
    "kernelspec": {
      "name": "python3",
      "display_name": "Python 3"
    },
    "language_info": {
      "name": "python"
    }
  },
  "cells": [
    {
      "cell_type": "markdown",
      "metadata": {
        "id": "view-in-github",
        "colab_type": "text"
      },
      "source": [
        "<a href=\"https://colab.research.google.com/github/Lavan1999/100-Datasets-2--Iris-/blob/main/Iris.ipynb\" target=\"_parent\"><img src=\"https://colab.research.google.com/assets/colab-badge.svg\" alt=\"Open In Colab\"/></a>"
      ]
    },
    {
      "cell_type": "markdown",
      "source": [
        "# **Libraries**"
      ],
      "metadata": {
        "id": "QDuNinpnNiy1"
      }
    },
    {
      "cell_type": "code",
      "execution_count": null,
      "metadata": {
        "id": "OCImMwbvmstE"
      },
      "outputs": [],
      "source": [
        "import pandas as pd\n",
        "import numpy as np\n",
        "import seaborn as sns\n",
        "from scipy import stats\n",
        "import matplotlib.pyplot as plt\n",
        "import plotly.express as px"
      ]
    },
    {
      "cell_type": "markdown",
      "source": [
        "# **Reading Dataset**"
      ],
      "metadata": {
        "id": "G1v9FoizNnOF"
      }
    },
    {
      "cell_type": "code",
      "source": [
        "df = pd.read_csv(\"/content/Iris_Data.csv\")\n",
        "df"
      ],
      "metadata": {
        "id": "eXJsbltWmtsB",
        "colab": {
          "base_uri": "https://localhost:8080/",
          "height": 424
        },
        "outputId": "6e246768-6d8e-4a8a-d5d2-a8bb9bb07438"
      },
      "execution_count": null,
      "outputs": [
        {
          "output_type": "execute_result",
          "data": {
            "text/plain": [
              "     sepal_length  sepal_width  petal_length  petal_width         species\n",
              "0             5.1          3.5           1.4          0.2     Iris-setosa\n",
              "1             4.9          3.0           1.4          0.2     Iris-setosa\n",
              "2             4.7          3.2           1.3          0.2     Iris-setosa\n",
              "3             4.6          3.1           1.5          0.2     Iris-setosa\n",
              "4             5.0          3.6           1.4          0.2     Iris-setosa\n",
              "..            ...          ...           ...          ...             ...\n",
              "145           6.7          3.0           5.2          2.3  Iris-virginica\n",
              "146           6.3          2.5           5.0          1.9  Iris-virginica\n",
              "147           6.5          3.0           5.2          2.0  Iris-virginica\n",
              "148           6.2          3.4           5.4          2.3  Iris-virginica\n",
              "149           5.9          3.0           5.1          1.8  Iris-virginica\n",
              "\n",
              "[150 rows x 5 columns]"
            ],
            "text/html": [
              "\n",
              "  <div id=\"df-cbb61ddb-4a3b-4d22-9609-70d9e352cd44\" class=\"colab-df-container\">\n",
              "    <div>\n",
              "<style scoped>\n",
              "    .dataframe tbody tr th:only-of-type {\n",
              "        vertical-align: middle;\n",
              "    }\n",
              "\n",
              "    .dataframe tbody tr th {\n",
              "        vertical-align: top;\n",
              "    }\n",
              "\n",
              "    .dataframe thead th {\n",
              "        text-align: right;\n",
              "    }\n",
              "</style>\n",
              "<table border=\"1\" class=\"dataframe\">\n",
              "  <thead>\n",
              "    <tr style=\"text-align: right;\">\n",
              "      <th></th>\n",
              "      <th>sepal_length</th>\n",
              "      <th>sepal_width</th>\n",
              "      <th>petal_length</th>\n",
              "      <th>petal_width</th>\n",
              "      <th>species</th>\n",
              "    </tr>\n",
              "  </thead>\n",
              "  <tbody>\n",
              "    <tr>\n",
              "      <th>0</th>\n",
              "      <td>5.1</td>\n",
              "      <td>3.5</td>\n",
              "      <td>1.4</td>\n",
              "      <td>0.2</td>\n",
              "      <td>Iris-setosa</td>\n",
              "    </tr>\n",
              "    <tr>\n",
              "      <th>1</th>\n",
              "      <td>4.9</td>\n",
              "      <td>3.0</td>\n",
              "      <td>1.4</td>\n",
              "      <td>0.2</td>\n",
              "      <td>Iris-setosa</td>\n",
              "    </tr>\n",
              "    <tr>\n",
              "      <th>2</th>\n",
              "      <td>4.7</td>\n",
              "      <td>3.2</td>\n",
              "      <td>1.3</td>\n",
              "      <td>0.2</td>\n",
              "      <td>Iris-setosa</td>\n",
              "    </tr>\n",
              "    <tr>\n",
              "      <th>3</th>\n",
              "      <td>4.6</td>\n",
              "      <td>3.1</td>\n",
              "      <td>1.5</td>\n",
              "      <td>0.2</td>\n",
              "      <td>Iris-setosa</td>\n",
              "    </tr>\n",
              "    <tr>\n",
              "      <th>4</th>\n",
              "      <td>5.0</td>\n",
              "      <td>3.6</td>\n",
              "      <td>1.4</td>\n",
              "      <td>0.2</td>\n",
              "      <td>Iris-setosa</td>\n",
              "    </tr>\n",
              "    <tr>\n",
              "      <th>...</th>\n",
              "      <td>...</td>\n",
              "      <td>...</td>\n",
              "      <td>...</td>\n",
              "      <td>...</td>\n",
              "      <td>...</td>\n",
              "    </tr>\n",
              "    <tr>\n",
              "      <th>145</th>\n",
              "      <td>6.7</td>\n",
              "      <td>3.0</td>\n",
              "      <td>5.2</td>\n",
              "      <td>2.3</td>\n",
              "      <td>Iris-virginica</td>\n",
              "    </tr>\n",
              "    <tr>\n",
              "      <th>146</th>\n",
              "      <td>6.3</td>\n",
              "      <td>2.5</td>\n",
              "      <td>5.0</td>\n",
              "      <td>1.9</td>\n",
              "      <td>Iris-virginica</td>\n",
              "    </tr>\n",
              "    <tr>\n",
              "      <th>147</th>\n",
              "      <td>6.5</td>\n",
              "      <td>3.0</td>\n",
              "      <td>5.2</td>\n",
              "      <td>2.0</td>\n",
              "      <td>Iris-virginica</td>\n",
              "    </tr>\n",
              "    <tr>\n",
              "      <th>148</th>\n",
              "      <td>6.2</td>\n",
              "      <td>3.4</td>\n",
              "      <td>5.4</td>\n",
              "      <td>2.3</td>\n",
              "      <td>Iris-virginica</td>\n",
              "    </tr>\n",
              "    <tr>\n",
              "      <th>149</th>\n",
              "      <td>5.9</td>\n",
              "      <td>3.0</td>\n",
              "      <td>5.1</td>\n",
              "      <td>1.8</td>\n",
              "      <td>Iris-virginica</td>\n",
              "    </tr>\n",
              "  </tbody>\n",
              "</table>\n",
              "<p>150 rows × 5 columns</p>\n",
              "</div>\n",
              "    <div class=\"colab-df-buttons\">\n",
              "\n",
              "  <div class=\"colab-df-container\">\n",
              "    <button class=\"colab-df-convert\" onclick=\"convertToInteractive('df-cbb61ddb-4a3b-4d22-9609-70d9e352cd44')\"\n",
              "            title=\"Convert this dataframe to an interactive table.\"\n",
              "            style=\"display:none;\">\n",
              "\n",
              "  <svg xmlns=\"http://www.w3.org/2000/svg\" height=\"24px\" viewBox=\"0 -960 960 960\">\n",
              "    <path d=\"M120-120v-720h720v720H120Zm60-500h600v-160H180v160Zm220 220h160v-160H400v160Zm0 220h160v-160H400v160ZM180-400h160v-160H180v160Zm440 0h160v-160H620v160ZM180-180h160v-160H180v160Zm440 0h160v-160H620v160Z\"/>\n",
              "  </svg>\n",
              "    </button>\n",
              "\n",
              "  <style>\n",
              "    .colab-df-container {\n",
              "      display:flex;\n",
              "      gap: 12px;\n",
              "    }\n",
              "\n",
              "    .colab-df-convert {\n",
              "      background-color: #E8F0FE;\n",
              "      border: none;\n",
              "      border-radius: 50%;\n",
              "      cursor: pointer;\n",
              "      display: none;\n",
              "      fill: #1967D2;\n",
              "      height: 32px;\n",
              "      padding: 0 0 0 0;\n",
              "      width: 32px;\n",
              "    }\n",
              "\n",
              "    .colab-df-convert:hover {\n",
              "      background-color: #E2EBFA;\n",
              "      box-shadow: 0px 1px 2px rgba(60, 64, 67, 0.3), 0px 1px 3px 1px rgba(60, 64, 67, 0.15);\n",
              "      fill: #174EA6;\n",
              "    }\n",
              "\n",
              "    .colab-df-buttons div {\n",
              "      margin-bottom: 4px;\n",
              "    }\n",
              "\n",
              "    [theme=dark] .colab-df-convert {\n",
              "      background-color: #3B4455;\n",
              "      fill: #D2E3FC;\n",
              "    }\n",
              "\n",
              "    [theme=dark] .colab-df-convert:hover {\n",
              "      background-color: #434B5C;\n",
              "      box-shadow: 0px 1px 3px 1px rgba(0, 0, 0, 0.15);\n",
              "      filter: drop-shadow(0px 1px 2px rgba(0, 0, 0, 0.3));\n",
              "      fill: #FFFFFF;\n",
              "    }\n",
              "  </style>\n",
              "\n",
              "    <script>\n",
              "      const buttonEl =\n",
              "        document.querySelector('#df-cbb61ddb-4a3b-4d22-9609-70d9e352cd44 button.colab-df-convert');\n",
              "      buttonEl.style.display =\n",
              "        google.colab.kernel.accessAllowed ? 'block' : 'none';\n",
              "\n",
              "      async function convertToInteractive(key) {\n",
              "        const element = document.querySelector('#df-cbb61ddb-4a3b-4d22-9609-70d9e352cd44');\n",
              "        const dataTable =\n",
              "          await google.colab.kernel.invokeFunction('convertToInteractive',\n",
              "                                                    [key], {});\n",
              "        if (!dataTable) return;\n",
              "\n",
              "        const docLinkHtml = 'Like what you see? Visit the ' +\n",
              "          '<a target=\"_blank\" href=https://colab.research.google.com/notebooks/data_table.ipynb>data table notebook</a>'\n",
              "          + ' to learn more about interactive tables.';\n",
              "        element.innerHTML = '';\n",
              "        dataTable['output_type'] = 'display_data';\n",
              "        await google.colab.output.renderOutput(dataTable, element);\n",
              "        const docLink = document.createElement('div');\n",
              "        docLink.innerHTML = docLinkHtml;\n",
              "        element.appendChild(docLink);\n",
              "      }\n",
              "    </script>\n",
              "  </div>\n",
              "\n",
              "\n",
              "<div id=\"df-fee7557f-2b13-4427-9b75-51aa6c7a067b\">\n",
              "  <button class=\"colab-df-quickchart\" onclick=\"quickchart('df-fee7557f-2b13-4427-9b75-51aa6c7a067b')\"\n",
              "            title=\"Suggest charts\"\n",
              "            style=\"display:none;\">\n",
              "\n",
              "<svg xmlns=\"http://www.w3.org/2000/svg\" height=\"24px\"viewBox=\"0 0 24 24\"\n",
              "     width=\"24px\">\n",
              "    <g>\n",
              "        <path d=\"M19 3H5c-1.1 0-2 .9-2 2v14c0 1.1.9 2 2 2h14c1.1 0 2-.9 2-2V5c0-1.1-.9-2-2-2zM9 17H7v-7h2v7zm4 0h-2V7h2v10zm4 0h-2v-4h2v4z\"/>\n",
              "    </g>\n",
              "</svg>\n",
              "  </button>\n",
              "\n",
              "<style>\n",
              "  .colab-df-quickchart {\n",
              "      --bg-color: #E8F0FE;\n",
              "      --fill-color: #1967D2;\n",
              "      --hover-bg-color: #E2EBFA;\n",
              "      --hover-fill-color: #174EA6;\n",
              "      --disabled-fill-color: #AAA;\n",
              "      --disabled-bg-color: #DDD;\n",
              "  }\n",
              "\n",
              "  [theme=dark] .colab-df-quickchart {\n",
              "      --bg-color: #3B4455;\n",
              "      --fill-color: #D2E3FC;\n",
              "      --hover-bg-color: #434B5C;\n",
              "      --hover-fill-color: #FFFFFF;\n",
              "      --disabled-bg-color: #3B4455;\n",
              "      --disabled-fill-color: #666;\n",
              "  }\n",
              "\n",
              "  .colab-df-quickchart {\n",
              "    background-color: var(--bg-color);\n",
              "    border: none;\n",
              "    border-radius: 50%;\n",
              "    cursor: pointer;\n",
              "    display: none;\n",
              "    fill: var(--fill-color);\n",
              "    height: 32px;\n",
              "    padding: 0;\n",
              "    width: 32px;\n",
              "  }\n",
              "\n",
              "  .colab-df-quickchart:hover {\n",
              "    background-color: var(--hover-bg-color);\n",
              "    box-shadow: 0 1px 2px rgba(60, 64, 67, 0.3), 0 1px 3px 1px rgba(60, 64, 67, 0.15);\n",
              "    fill: var(--button-hover-fill-color);\n",
              "  }\n",
              "\n",
              "  .colab-df-quickchart-complete:disabled,\n",
              "  .colab-df-quickchart-complete:disabled:hover {\n",
              "    background-color: var(--disabled-bg-color);\n",
              "    fill: var(--disabled-fill-color);\n",
              "    box-shadow: none;\n",
              "  }\n",
              "\n",
              "  .colab-df-spinner {\n",
              "    border: 2px solid var(--fill-color);\n",
              "    border-color: transparent;\n",
              "    border-bottom-color: var(--fill-color);\n",
              "    animation:\n",
              "      spin 1s steps(1) infinite;\n",
              "  }\n",
              "\n",
              "  @keyframes spin {\n",
              "    0% {\n",
              "      border-color: transparent;\n",
              "      border-bottom-color: var(--fill-color);\n",
              "      border-left-color: var(--fill-color);\n",
              "    }\n",
              "    20% {\n",
              "      border-color: transparent;\n",
              "      border-left-color: var(--fill-color);\n",
              "      border-top-color: var(--fill-color);\n",
              "    }\n",
              "    30% {\n",
              "      border-color: transparent;\n",
              "      border-left-color: var(--fill-color);\n",
              "      border-top-color: var(--fill-color);\n",
              "      border-right-color: var(--fill-color);\n",
              "    }\n",
              "    40% {\n",
              "      border-color: transparent;\n",
              "      border-right-color: var(--fill-color);\n",
              "      border-top-color: var(--fill-color);\n",
              "    }\n",
              "    60% {\n",
              "      border-color: transparent;\n",
              "      border-right-color: var(--fill-color);\n",
              "    }\n",
              "    80% {\n",
              "      border-color: transparent;\n",
              "      border-right-color: var(--fill-color);\n",
              "      border-bottom-color: var(--fill-color);\n",
              "    }\n",
              "    90% {\n",
              "      border-color: transparent;\n",
              "      border-bottom-color: var(--fill-color);\n",
              "    }\n",
              "  }\n",
              "</style>\n",
              "\n",
              "  <script>\n",
              "    async function quickchart(key) {\n",
              "      const quickchartButtonEl =\n",
              "        document.querySelector('#' + key + ' button');\n",
              "      quickchartButtonEl.disabled = true;  // To prevent multiple clicks.\n",
              "      quickchartButtonEl.classList.add('colab-df-spinner');\n",
              "      try {\n",
              "        const charts = await google.colab.kernel.invokeFunction(\n",
              "            'suggestCharts', [key], {});\n",
              "      } catch (error) {\n",
              "        console.error('Error during call to suggestCharts:', error);\n",
              "      }\n",
              "      quickchartButtonEl.classList.remove('colab-df-spinner');\n",
              "      quickchartButtonEl.classList.add('colab-df-quickchart-complete');\n",
              "    }\n",
              "    (() => {\n",
              "      let quickchartButtonEl =\n",
              "        document.querySelector('#df-fee7557f-2b13-4427-9b75-51aa6c7a067b button');\n",
              "      quickchartButtonEl.style.display =\n",
              "        google.colab.kernel.accessAllowed ? 'block' : 'none';\n",
              "    })();\n",
              "  </script>\n",
              "</div>\n",
              "\n",
              "  <div id=\"id_b065f75e-9906-4170-b97e-97f0544b7fbe\">\n",
              "    <style>\n",
              "      .colab-df-generate {\n",
              "        background-color: #E8F0FE;\n",
              "        border: none;\n",
              "        border-radius: 50%;\n",
              "        cursor: pointer;\n",
              "        display: none;\n",
              "        fill: #1967D2;\n",
              "        height: 32px;\n",
              "        padding: 0 0 0 0;\n",
              "        width: 32px;\n",
              "      }\n",
              "\n",
              "      .colab-df-generate:hover {\n",
              "        background-color: #E2EBFA;\n",
              "        box-shadow: 0px 1px 2px rgba(60, 64, 67, 0.3), 0px 1px 3px 1px rgba(60, 64, 67, 0.15);\n",
              "        fill: #174EA6;\n",
              "      }\n",
              "\n",
              "      [theme=dark] .colab-df-generate {\n",
              "        background-color: #3B4455;\n",
              "        fill: #D2E3FC;\n",
              "      }\n",
              "\n",
              "      [theme=dark] .colab-df-generate:hover {\n",
              "        background-color: #434B5C;\n",
              "        box-shadow: 0px 1px 3px 1px rgba(0, 0, 0, 0.15);\n",
              "        filter: drop-shadow(0px 1px 2px rgba(0, 0, 0, 0.3));\n",
              "        fill: #FFFFFF;\n",
              "      }\n",
              "    </style>\n",
              "    <button class=\"colab-df-generate\" onclick=\"generateWithVariable('df')\"\n",
              "            title=\"Generate code using this dataframe.\"\n",
              "            style=\"display:none;\">\n",
              "\n",
              "  <svg xmlns=\"http://www.w3.org/2000/svg\" height=\"24px\"viewBox=\"0 0 24 24\"\n",
              "       width=\"24px\">\n",
              "    <path d=\"M7,19H8.4L18.45,9,17,7.55,7,17.6ZM5,21V16.75L18.45,3.32a2,2,0,0,1,2.83,0l1.4,1.43a1.91,1.91,0,0,1,.58,1.4,1.91,1.91,0,0,1-.58,1.4L9.25,21ZM18.45,9,17,7.55Zm-12,3A5.31,5.31,0,0,0,4.9,8.1,5.31,5.31,0,0,0,1,6.5,5.31,5.31,0,0,0,4.9,4.9,5.31,5.31,0,0,0,6.5,1,5.31,5.31,0,0,0,8.1,4.9,5.31,5.31,0,0,0,12,6.5,5.46,5.46,0,0,0,6.5,12Z\"/>\n",
              "  </svg>\n",
              "    </button>\n",
              "    <script>\n",
              "      (() => {\n",
              "      const buttonEl =\n",
              "        document.querySelector('#id_b065f75e-9906-4170-b97e-97f0544b7fbe button.colab-df-generate');\n",
              "      buttonEl.style.display =\n",
              "        google.colab.kernel.accessAllowed ? 'block' : 'none';\n",
              "\n",
              "      buttonEl.onclick = () => {\n",
              "        google.colab.notebook.generateWithVariable('df');\n",
              "      }\n",
              "      })();\n",
              "    </script>\n",
              "  </div>\n",
              "\n",
              "    </div>\n",
              "  </div>\n"
            ],
            "application/vnd.google.colaboratory.intrinsic+json": {
              "type": "dataframe",
              "variable_name": "df",
              "summary": "{\n  \"name\": \"df\",\n  \"rows\": 150,\n  \"fields\": [\n    {\n      \"column\": \"sepal_length\",\n      \"properties\": {\n        \"dtype\": \"number\",\n        \"std\": 0.828066127977863,\n        \"min\": 4.3,\n        \"max\": 7.9,\n        \"num_unique_values\": 35,\n        \"samples\": [\n          6.2,\n          4.5,\n          5.6\n        ],\n        \"semantic_type\": \"\",\n        \"description\": \"\"\n      }\n    },\n    {\n      \"column\": \"sepal_width\",\n      \"properties\": {\n        \"dtype\": \"number\",\n        \"std\": 0.4335943113621737,\n        \"min\": 2.0,\n        \"max\": 4.4,\n        \"num_unique_values\": 23,\n        \"samples\": [\n          2.3,\n          4.0,\n          3.5\n        ],\n        \"semantic_type\": \"\",\n        \"description\": \"\"\n      }\n    },\n    {\n      \"column\": \"petal_length\",\n      \"properties\": {\n        \"dtype\": \"number\",\n        \"std\": 1.7644204199522626,\n        \"min\": 1.0,\n        \"max\": 6.9,\n        \"num_unique_values\": 43,\n        \"samples\": [\n          6.7,\n          3.8,\n          3.7\n        ],\n        \"semantic_type\": \"\",\n        \"description\": \"\"\n      }\n    },\n    {\n      \"column\": \"petal_width\",\n      \"properties\": {\n        \"dtype\": \"number\",\n        \"std\": 0.7631607417008411,\n        \"min\": 0.1,\n        \"max\": 2.5,\n        \"num_unique_values\": 22,\n        \"samples\": [\n          0.2,\n          1.2,\n          1.3\n        ],\n        \"semantic_type\": \"\",\n        \"description\": \"\"\n      }\n    },\n    {\n      \"column\": \"species\",\n      \"properties\": {\n        \"dtype\": \"category\",\n        \"num_unique_values\": 3,\n        \"samples\": [\n          \"Iris-setosa\",\n          \"Iris-versicolor\",\n          \"Iris-virginica\"\n        ],\n        \"semantic_type\": \"\",\n        \"description\": \"\"\n      }\n    }\n  ]\n}"
            }
          },
          "metadata": {},
          "execution_count": 2
        }
      ]
    },
    {
      "cell_type": "markdown",
      "source": [
        "# **Unsupervised Learning, Regression**"
      ],
      "metadata": {
        "id": "l2ChuSnINtd2"
      }
    },
    {
      "cell_type": "code",
      "source": [
        "'''\n",
        "1---Unsupervised Data\n",
        "\n",
        "continuous column = sepal_length,sepal_width,petal_length\t,petal_width\n",
        "Category column =  species\n",
        "\n",
        "2---Correlation Test for Numerical columns\n",
        "\n",
        "2--- Hypothesis testing: continuous Vs continuous\n",
        "    sepal_length vs sepal_width         rejected\n",
        "    sepal_length vs petal_length        rejected\n",
        "    sepal_length vs petal_width         rejected\n",
        "\n",
        "    sepal_width vs petal_length         rejected\n",
        "    sepal_width vs petal_width          rejected\n",
        "\n",
        "    petal_length vs petal_width         rejected\n",
        "\n",
        "3---Hypothesis testing for category VS continous\n",
        "  species vs sepal_length               rejected\n",
        "  species vs sepal_width                rejected\n",
        "  species vs petal_length               rejected\n",
        "  species vs petal_width                rejected\n",
        "'''"
      ],
      "metadata": {
        "id": "5GzY-m-rmvnY"
      },
      "execution_count": null,
      "outputs": []
    },
    {
      "cell_type": "markdown",
      "source": [
        "# **correlation test**"
      ],
      "metadata": {
        "id": "AqolShPWO5A9"
      }
    },
    {
      "cell_type": "code",
      "source": [
        "df.corr()"
      ],
      "metadata": {
        "id": "qUmArRGYmvln",
        "colab": {
          "base_uri": "https://localhost:8080/",
          "height": 230
        },
        "outputId": "8b50c65c-e2a7-4808-e776-3351956c4582"
      },
      "execution_count": null,
      "outputs": [
        {
          "output_type": "stream",
          "name": "stderr",
          "text": [
            "<ipython-input-3-2f6f6606aa2c>:1: FutureWarning: The default value of numeric_only in DataFrame.corr is deprecated. In a future version, it will default to False. Select only valid columns or specify the value of numeric_only to silence this warning.\n",
            "  df.corr()\n"
          ]
        },
        {
          "output_type": "execute_result",
          "data": {
            "text/plain": [
              "              sepal_length  sepal_width  petal_length  petal_width\n",
              "sepal_length      1.000000    -0.109369      0.871754     0.817954\n",
              "sepal_width      -0.109369     1.000000     -0.420516    -0.356544\n",
              "petal_length      0.871754    -0.420516      1.000000     0.962757\n",
              "petal_width       0.817954    -0.356544      0.962757     1.000000"
            ],
            "text/html": [
              "\n",
              "  <div id=\"df-026d1449-5bc1-4c2e-a3e2-fa7463c000c1\" class=\"colab-df-container\">\n",
              "    <div>\n",
              "<style scoped>\n",
              "    .dataframe tbody tr th:only-of-type {\n",
              "        vertical-align: middle;\n",
              "    }\n",
              "\n",
              "    .dataframe tbody tr th {\n",
              "        vertical-align: top;\n",
              "    }\n",
              "\n",
              "    .dataframe thead th {\n",
              "        text-align: right;\n",
              "    }\n",
              "</style>\n",
              "<table border=\"1\" class=\"dataframe\">\n",
              "  <thead>\n",
              "    <tr style=\"text-align: right;\">\n",
              "      <th></th>\n",
              "      <th>sepal_length</th>\n",
              "      <th>sepal_width</th>\n",
              "      <th>petal_length</th>\n",
              "      <th>petal_width</th>\n",
              "    </tr>\n",
              "  </thead>\n",
              "  <tbody>\n",
              "    <tr>\n",
              "      <th>sepal_length</th>\n",
              "      <td>1.000000</td>\n",
              "      <td>-0.109369</td>\n",
              "      <td>0.871754</td>\n",
              "      <td>0.817954</td>\n",
              "    </tr>\n",
              "    <tr>\n",
              "      <th>sepal_width</th>\n",
              "      <td>-0.109369</td>\n",
              "      <td>1.000000</td>\n",
              "      <td>-0.420516</td>\n",
              "      <td>-0.356544</td>\n",
              "    </tr>\n",
              "    <tr>\n",
              "      <th>petal_length</th>\n",
              "      <td>0.871754</td>\n",
              "      <td>-0.420516</td>\n",
              "      <td>1.000000</td>\n",
              "      <td>0.962757</td>\n",
              "    </tr>\n",
              "    <tr>\n",
              "      <th>petal_width</th>\n",
              "      <td>0.817954</td>\n",
              "      <td>-0.356544</td>\n",
              "      <td>0.962757</td>\n",
              "      <td>1.000000</td>\n",
              "    </tr>\n",
              "  </tbody>\n",
              "</table>\n",
              "</div>\n",
              "    <div class=\"colab-df-buttons\">\n",
              "\n",
              "  <div class=\"colab-df-container\">\n",
              "    <button class=\"colab-df-convert\" onclick=\"convertToInteractive('df-026d1449-5bc1-4c2e-a3e2-fa7463c000c1')\"\n",
              "            title=\"Convert this dataframe to an interactive table.\"\n",
              "            style=\"display:none;\">\n",
              "\n",
              "  <svg xmlns=\"http://www.w3.org/2000/svg\" height=\"24px\" viewBox=\"0 -960 960 960\">\n",
              "    <path d=\"M120-120v-720h720v720H120Zm60-500h600v-160H180v160Zm220 220h160v-160H400v160Zm0 220h160v-160H400v160ZM180-400h160v-160H180v160Zm440 0h160v-160H620v160ZM180-180h160v-160H180v160Zm440 0h160v-160H620v160Z\"/>\n",
              "  </svg>\n",
              "    </button>\n",
              "\n",
              "  <style>\n",
              "    .colab-df-container {\n",
              "      display:flex;\n",
              "      gap: 12px;\n",
              "    }\n",
              "\n",
              "    .colab-df-convert {\n",
              "      background-color: #E8F0FE;\n",
              "      border: none;\n",
              "      border-radius: 50%;\n",
              "      cursor: pointer;\n",
              "      display: none;\n",
              "      fill: #1967D2;\n",
              "      height: 32px;\n",
              "      padding: 0 0 0 0;\n",
              "      width: 32px;\n",
              "    }\n",
              "\n",
              "    .colab-df-convert:hover {\n",
              "      background-color: #E2EBFA;\n",
              "      box-shadow: 0px 1px 2px rgba(60, 64, 67, 0.3), 0px 1px 3px 1px rgba(60, 64, 67, 0.15);\n",
              "      fill: #174EA6;\n",
              "    }\n",
              "\n",
              "    .colab-df-buttons div {\n",
              "      margin-bottom: 4px;\n",
              "    }\n",
              "\n",
              "    [theme=dark] .colab-df-convert {\n",
              "      background-color: #3B4455;\n",
              "      fill: #D2E3FC;\n",
              "    }\n",
              "\n",
              "    [theme=dark] .colab-df-convert:hover {\n",
              "      background-color: #434B5C;\n",
              "      box-shadow: 0px 1px 3px 1px rgba(0, 0, 0, 0.15);\n",
              "      filter: drop-shadow(0px 1px 2px rgba(0, 0, 0, 0.3));\n",
              "      fill: #FFFFFF;\n",
              "    }\n",
              "  </style>\n",
              "\n",
              "    <script>\n",
              "      const buttonEl =\n",
              "        document.querySelector('#df-026d1449-5bc1-4c2e-a3e2-fa7463c000c1 button.colab-df-convert');\n",
              "      buttonEl.style.display =\n",
              "        google.colab.kernel.accessAllowed ? 'block' : 'none';\n",
              "\n",
              "      async function convertToInteractive(key) {\n",
              "        const element = document.querySelector('#df-026d1449-5bc1-4c2e-a3e2-fa7463c000c1');\n",
              "        const dataTable =\n",
              "          await google.colab.kernel.invokeFunction('convertToInteractive',\n",
              "                                                    [key], {});\n",
              "        if (!dataTable) return;\n",
              "\n",
              "        const docLinkHtml = 'Like what you see? Visit the ' +\n",
              "          '<a target=\"_blank\" href=https://colab.research.google.com/notebooks/data_table.ipynb>data table notebook</a>'\n",
              "          + ' to learn more about interactive tables.';\n",
              "        element.innerHTML = '';\n",
              "        dataTable['output_type'] = 'display_data';\n",
              "        await google.colab.output.renderOutput(dataTable, element);\n",
              "        const docLink = document.createElement('div');\n",
              "        docLink.innerHTML = docLinkHtml;\n",
              "        element.appendChild(docLink);\n",
              "      }\n",
              "    </script>\n",
              "  </div>\n",
              "\n",
              "\n",
              "<div id=\"df-1fd72e8e-0804-47fd-b617-baf58b8451dd\">\n",
              "  <button class=\"colab-df-quickchart\" onclick=\"quickchart('df-1fd72e8e-0804-47fd-b617-baf58b8451dd')\"\n",
              "            title=\"Suggest charts\"\n",
              "            style=\"display:none;\">\n",
              "\n",
              "<svg xmlns=\"http://www.w3.org/2000/svg\" height=\"24px\"viewBox=\"0 0 24 24\"\n",
              "     width=\"24px\">\n",
              "    <g>\n",
              "        <path d=\"M19 3H5c-1.1 0-2 .9-2 2v14c0 1.1.9 2 2 2h14c1.1 0 2-.9 2-2V5c0-1.1-.9-2-2-2zM9 17H7v-7h2v7zm4 0h-2V7h2v10zm4 0h-2v-4h2v4z\"/>\n",
              "    </g>\n",
              "</svg>\n",
              "  </button>\n",
              "\n",
              "<style>\n",
              "  .colab-df-quickchart {\n",
              "      --bg-color: #E8F0FE;\n",
              "      --fill-color: #1967D2;\n",
              "      --hover-bg-color: #E2EBFA;\n",
              "      --hover-fill-color: #174EA6;\n",
              "      --disabled-fill-color: #AAA;\n",
              "      --disabled-bg-color: #DDD;\n",
              "  }\n",
              "\n",
              "  [theme=dark] .colab-df-quickchart {\n",
              "      --bg-color: #3B4455;\n",
              "      --fill-color: #D2E3FC;\n",
              "      --hover-bg-color: #434B5C;\n",
              "      --hover-fill-color: #FFFFFF;\n",
              "      --disabled-bg-color: #3B4455;\n",
              "      --disabled-fill-color: #666;\n",
              "  }\n",
              "\n",
              "  .colab-df-quickchart {\n",
              "    background-color: var(--bg-color);\n",
              "    border: none;\n",
              "    border-radius: 50%;\n",
              "    cursor: pointer;\n",
              "    display: none;\n",
              "    fill: var(--fill-color);\n",
              "    height: 32px;\n",
              "    padding: 0;\n",
              "    width: 32px;\n",
              "  }\n",
              "\n",
              "  .colab-df-quickchart:hover {\n",
              "    background-color: var(--hover-bg-color);\n",
              "    box-shadow: 0 1px 2px rgba(60, 64, 67, 0.3), 0 1px 3px 1px rgba(60, 64, 67, 0.15);\n",
              "    fill: var(--button-hover-fill-color);\n",
              "  }\n",
              "\n",
              "  .colab-df-quickchart-complete:disabled,\n",
              "  .colab-df-quickchart-complete:disabled:hover {\n",
              "    background-color: var(--disabled-bg-color);\n",
              "    fill: var(--disabled-fill-color);\n",
              "    box-shadow: none;\n",
              "  }\n",
              "\n",
              "  .colab-df-spinner {\n",
              "    border: 2px solid var(--fill-color);\n",
              "    border-color: transparent;\n",
              "    border-bottom-color: var(--fill-color);\n",
              "    animation:\n",
              "      spin 1s steps(1) infinite;\n",
              "  }\n",
              "\n",
              "  @keyframes spin {\n",
              "    0% {\n",
              "      border-color: transparent;\n",
              "      border-bottom-color: var(--fill-color);\n",
              "      border-left-color: var(--fill-color);\n",
              "    }\n",
              "    20% {\n",
              "      border-color: transparent;\n",
              "      border-left-color: var(--fill-color);\n",
              "      border-top-color: var(--fill-color);\n",
              "    }\n",
              "    30% {\n",
              "      border-color: transparent;\n",
              "      border-left-color: var(--fill-color);\n",
              "      border-top-color: var(--fill-color);\n",
              "      border-right-color: var(--fill-color);\n",
              "    }\n",
              "    40% {\n",
              "      border-color: transparent;\n",
              "      border-right-color: var(--fill-color);\n",
              "      border-top-color: var(--fill-color);\n",
              "    }\n",
              "    60% {\n",
              "      border-color: transparent;\n",
              "      border-right-color: var(--fill-color);\n",
              "    }\n",
              "    80% {\n",
              "      border-color: transparent;\n",
              "      border-right-color: var(--fill-color);\n",
              "      border-bottom-color: var(--fill-color);\n",
              "    }\n",
              "    90% {\n",
              "      border-color: transparent;\n",
              "      border-bottom-color: var(--fill-color);\n",
              "    }\n",
              "  }\n",
              "</style>\n",
              "\n",
              "  <script>\n",
              "    async function quickchart(key) {\n",
              "      const quickchartButtonEl =\n",
              "        document.querySelector('#' + key + ' button');\n",
              "      quickchartButtonEl.disabled = true;  // To prevent multiple clicks.\n",
              "      quickchartButtonEl.classList.add('colab-df-spinner');\n",
              "      try {\n",
              "        const charts = await google.colab.kernel.invokeFunction(\n",
              "            'suggestCharts', [key], {});\n",
              "      } catch (error) {\n",
              "        console.error('Error during call to suggestCharts:', error);\n",
              "      }\n",
              "      quickchartButtonEl.classList.remove('colab-df-spinner');\n",
              "      quickchartButtonEl.classList.add('colab-df-quickchart-complete');\n",
              "    }\n",
              "    (() => {\n",
              "      let quickchartButtonEl =\n",
              "        document.querySelector('#df-1fd72e8e-0804-47fd-b617-baf58b8451dd button');\n",
              "      quickchartButtonEl.style.display =\n",
              "        google.colab.kernel.accessAllowed ? 'block' : 'none';\n",
              "    })();\n",
              "  </script>\n",
              "</div>\n",
              "\n",
              "    </div>\n",
              "  </div>\n"
            ],
            "application/vnd.google.colaboratory.intrinsic+json": {
              "type": "dataframe",
              "summary": "{\n  \"name\": \"df\",\n  \"rows\": 4,\n  \"fields\": [\n    {\n      \"column\": \"sepal_length\",\n      \"properties\": {\n        \"dtype\": \"number\",\n        \"std\": 0.5087331794989353,\n        \"min\": -0.10936924995064931,\n        \"max\": 1.0,\n        \"num_unique_values\": 4,\n        \"samples\": [\n          -0.10936924995064931,\n          0.8179536333691642,\n          1.0\n        ],\n        \"semantic_type\": \"\",\n        \"description\": \"\"\n      }\n    },\n    {\n      \"column\": \"sepal_width\",\n      \"properties\": {\n        \"dtype\": \"number\",\n        \"std\": 0.6614868453597539,\n        \"min\": -0.4205160964011539,\n        \"max\": 1.0,\n        \"num_unique_values\": 4,\n        \"samples\": [\n          1.0,\n          -0.35654408961380507,\n          -0.10936924995064931\n        ],\n        \"semantic_type\": \"\",\n        \"description\": \"\"\n      }\n    },\n    {\n      \"column\": \"petal_length\",\n      \"properties\": {\n        \"dtype\": \"number\",\n        \"std\": 0.6847985519785192,\n        \"min\": -0.4205160964011539,\n        \"max\": 1.0,\n        \"num_unique_values\": 4,\n        \"samples\": [\n          -0.4205160964011539,\n          0.9627570970509662,\n          0.8717541573048716\n        ],\n        \"semantic_type\": \"\",\n        \"description\": \"\"\n      }\n    },\n    {\n      \"column\": \"petal_width\",\n      \"properties\": {\n        \"dtype\": \"number\",\n        \"std\": 0.6465103986023225,\n        \"min\": -0.35654408961380507,\n        \"max\": 1.0,\n        \"num_unique_values\": 4,\n        \"samples\": [\n          -0.35654408961380507,\n          1.0,\n          0.8179536333691642\n        ],\n        \"semantic_type\": \"\",\n        \"description\": \"\"\n      }\n    }\n  ]\n}"
            }
          },
          "metadata": {},
          "execution_count": 3
        }
      ]
    },
    {
      "cell_type": "code",
      "source": [
        "correlation_matrix = df.corr()\n",
        "fig = px.imshow(correlation_matrix, color_continuous_scale='burg',\n",
        "                title=\"Correlation Matrix\")\n",
        "fig.show()"
      ],
      "metadata": {
        "colab": {
          "base_uri": "https://localhost:8080/",
          "height": 631
        },
        "id": "fQ44GqshTBPV",
        "outputId": "6fcd3364-7d14-4b30-9cfc-e408769a90d2"
      },
      "execution_count": null,
      "outputs": [
        {
          "output_type": "stream",
          "name": "stderr",
          "text": [
            "<ipython-input-8-90340071bba7>:1: FutureWarning:\n",
            "\n",
            "The default value of numeric_only in DataFrame.corr is deprecated. In a future version, it will default to False. Select only valid columns or specify the value of numeric_only to silence this warning.\n",
            "\n"
          ]
        },
        {
          "output_type": "display_data",
          "data": {
            "text/html": [
              "<html>\n",
              "<head><meta charset=\"utf-8\" /></head>\n",
              "<body>\n",
              "    <div>            <script src=\"https://cdnjs.cloudflare.com/ajax/libs/mathjax/2.7.5/MathJax.js?config=TeX-AMS-MML_SVG\"></script><script type=\"text/javascript\">if (window.MathJax && window.MathJax.Hub && window.MathJax.Hub.Config) {window.MathJax.Hub.Config({SVG: {font: \"STIX-Web\"}});}</script>                <script type=\"text/javascript\">window.PlotlyConfig = {MathJaxConfig: 'local'};</script>\n",
              "        <script charset=\"utf-8\" src=\"https://cdn.plot.ly/plotly-2.24.1.min.js\"></script>                <div id=\"492c4d0e-5d7c-41e6-97c0-a8db11591360\" class=\"plotly-graph-div\" style=\"height:525px; width:100%;\"></div>            <script type=\"text/javascript\">                                    window.PLOTLYENV=window.PLOTLYENV || {};                                    if (document.getElementById(\"492c4d0e-5d7c-41e6-97c0-a8db11591360\")) {                    Plotly.newPlot(                        \"492c4d0e-5d7c-41e6-97c0-a8db11591360\",                        [{\"coloraxis\":\"coloraxis\",\"name\":\"0\",\"x\":[\"sepal_length\",\"sepal_width\",\"petal_length\",\"petal_width\"],\"y\":[\"sepal_length\",\"sepal_width\",\"petal_length\",\"petal_width\"],\"z\":[[1.0,-0.10936924995064931,0.8717541573048716,0.8179536333691642],[-0.10936924995064931,1.0,-0.4205160964011539,-0.35654408961380507],[0.8717541573048716,-0.4205160964011539,1.0,0.9627570970509662],[0.8179536333691642,-0.35654408961380507,0.9627570970509662,1.0]],\"type\":\"heatmap\",\"xaxis\":\"x\",\"yaxis\":\"y\",\"hovertemplate\":\"x: %{x}\\u003cbr\\u003ey: %{y}\\u003cbr\\u003ecolor: %{z}\\u003cextra\\u003e\\u003c\\u002fextra\\u003e\"}],                        {\"template\":{\"data\":{\"histogram2dcontour\":[{\"type\":\"histogram2dcontour\",\"colorbar\":{\"outlinewidth\":0,\"ticks\":\"\"},\"colorscale\":[[0.0,\"#0d0887\"],[0.1111111111111111,\"#46039f\"],[0.2222222222222222,\"#7201a8\"],[0.3333333333333333,\"#9c179e\"],[0.4444444444444444,\"#bd3786\"],[0.5555555555555556,\"#d8576b\"],[0.6666666666666666,\"#ed7953\"],[0.7777777777777778,\"#fb9f3a\"],[0.8888888888888888,\"#fdca26\"],[1.0,\"#f0f921\"]]}],\"choropleth\":[{\"type\":\"choropleth\",\"colorbar\":{\"outlinewidth\":0,\"ticks\":\"\"}}],\"histogram2d\":[{\"type\":\"histogram2d\",\"colorbar\":{\"outlinewidth\":0,\"ticks\":\"\"},\"colorscale\":[[0.0,\"#0d0887\"],[0.1111111111111111,\"#46039f\"],[0.2222222222222222,\"#7201a8\"],[0.3333333333333333,\"#9c179e\"],[0.4444444444444444,\"#bd3786\"],[0.5555555555555556,\"#d8576b\"],[0.6666666666666666,\"#ed7953\"],[0.7777777777777778,\"#fb9f3a\"],[0.8888888888888888,\"#fdca26\"],[1.0,\"#f0f921\"]]}],\"heatmap\":[{\"type\":\"heatmap\",\"colorbar\":{\"outlinewidth\":0,\"ticks\":\"\"},\"colorscale\":[[0.0,\"#0d0887\"],[0.1111111111111111,\"#46039f\"],[0.2222222222222222,\"#7201a8\"],[0.3333333333333333,\"#9c179e\"],[0.4444444444444444,\"#bd3786\"],[0.5555555555555556,\"#d8576b\"],[0.6666666666666666,\"#ed7953\"],[0.7777777777777778,\"#fb9f3a\"],[0.8888888888888888,\"#fdca26\"],[1.0,\"#f0f921\"]]}],\"heatmapgl\":[{\"type\":\"heatmapgl\",\"colorbar\":{\"outlinewidth\":0,\"ticks\":\"\"},\"colorscale\":[[0.0,\"#0d0887\"],[0.1111111111111111,\"#46039f\"],[0.2222222222222222,\"#7201a8\"],[0.3333333333333333,\"#9c179e\"],[0.4444444444444444,\"#bd3786\"],[0.5555555555555556,\"#d8576b\"],[0.6666666666666666,\"#ed7953\"],[0.7777777777777778,\"#fb9f3a\"],[0.8888888888888888,\"#fdca26\"],[1.0,\"#f0f921\"]]}],\"contourcarpet\":[{\"type\":\"contourcarpet\",\"colorbar\":{\"outlinewidth\":0,\"ticks\":\"\"}}],\"contour\":[{\"type\":\"contour\",\"colorbar\":{\"outlinewidth\":0,\"ticks\":\"\"},\"colorscale\":[[0.0,\"#0d0887\"],[0.1111111111111111,\"#46039f\"],[0.2222222222222222,\"#7201a8\"],[0.3333333333333333,\"#9c179e\"],[0.4444444444444444,\"#bd3786\"],[0.5555555555555556,\"#d8576b\"],[0.6666666666666666,\"#ed7953\"],[0.7777777777777778,\"#fb9f3a\"],[0.8888888888888888,\"#fdca26\"],[1.0,\"#f0f921\"]]}],\"surface\":[{\"type\":\"surface\",\"colorbar\":{\"outlinewidth\":0,\"ticks\":\"\"},\"colorscale\":[[0.0,\"#0d0887\"],[0.1111111111111111,\"#46039f\"],[0.2222222222222222,\"#7201a8\"],[0.3333333333333333,\"#9c179e\"],[0.4444444444444444,\"#bd3786\"],[0.5555555555555556,\"#d8576b\"],[0.6666666666666666,\"#ed7953\"],[0.7777777777777778,\"#fb9f3a\"],[0.8888888888888888,\"#fdca26\"],[1.0,\"#f0f921\"]]}],\"mesh3d\":[{\"type\":\"mesh3d\",\"colorbar\":{\"outlinewidth\":0,\"ticks\":\"\"}}],\"scatter\":[{\"fillpattern\":{\"fillmode\":\"overlay\",\"size\":10,\"solidity\":0.2},\"type\":\"scatter\"}],\"parcoords\":[{\"type\":\"parcoords\",\"line\":{\"colorbar\":{\"outlinewidth\":0,\"ticks\":\"\"}}}],\"scatterpolargl\":[{\"type\":\"scatterpolargl\",\"marker\":{\"colorbar\":{\"outlinewidth\":0,\"ticks\":\"\"}}}],\"bar\":[{\"error_x\":{\"color\":\"#2a3f5f\"},\"error_y\":{\"color\":\"#2a3f5f\"},\"marker\":{\"line\":{\"color\":\"#E5ECF6\",\"width\":0.5},\"pattern\":{\"fillmode\":\"overlay\",\"size\":10,\"solidity\":0.2}},\"type\":\"bar\"}],\"scattergeo\":[{\"type\":\"scattergeo\",\"marker\":{\"colorbar\":{\"outlinewidth\":0,\"ticks\":\"\"}}}],\"scatterpolar\":[{\"type\":\"scatterpolar\",\"marker\":{\"colorbar\":{\"outlinewidth\":0,\"ticks\":\"\"}}}],\"histogram\":[{\"marker\":{\"pattern\":{\"fillmode\":\"overlay\",\"size\":10,\"solidity\":0.2}},\"type\":\"histogram\"}],\"scattergl\":[{\"type\":\"scattergl\",\"marker\":{\"colorbar\":{\"outlinewidth\":0,\"ticks\":\"\"}}}],\"scatter3d\":[{\"type\":\"scatter3d\",\"line\":{\"colorbar\":{\"outlinewidth\":0,\"ticks\":\"\"}},\"marker\":{\"colorbar\":{\"outlinewidth\":0,\"ticks\":\"\"}}}],\"scattermapbox\":[{\"type\":\"scattermapbox\",\"marker\":{\"colorbar\":{\"outlinewidth\":0,\"ticks\":\"\"}}}],\"scatterternary\":[{\"type\":\"scatterternary\",\"marker\":{\"colorbar\":{\"outlinewidth\":0,\"ticks\":\"\"}}}],\"scattercarpet\":[{\"type\":\"scattercarpet\",\"marker\":{\"colorbar\":{\"outlinewidth\":0,\"ticks\":\"\"}}}],\"carpet\":[{\"aaxis\":{\"endlinecolor\":\"#2a3f5f\",\"gridcolor\":\"white\",\"linecolor\":\"white\",\"minorgridcolor\":\"white\",\"startlinecolor\":\"#2a3f5f\"},\"baxis\":{\"endlinecolor\":\"#2a3f5f\",\"gridcolor\":\"white\",\"linecolor\":\"white\",\"minorgridcolor\":\"white\",\"startlinecolor\":\"#2a3f5f\"},\"type\":\"carpet\"}],\"table\":[{\"cells\":{\"fill\":{\"color\":\"#EBF0F8\"},\"line\":{\"color\":\"white\"}},\"header\":{\"fill\":{\"color\":\"#C8D4E3\"},\"line\":{\"color\":\"white\"}},\"type\":\"table\"}],\"barpolar\":[{\"marker\":{\"line\":{\"color\":\"#E5ECF6\",\"width\":0.5},\"pattern\":{\"fillmode\":\"overlay\",\"size\":10,\"solidity\":0.2}},\"type\":\"barpolar\"}],\"pie\":[{\"automargin\":true,\"type\":\"pie\"}]},\"layout\":{\"autotypenumbers\":\"strict\",\"colorway\":[\"#636efa\",\"#EF553B\",\"#00cc96\",\"#ab63fa\",\"#FFA15A\",\"#19d3f3\",\"#FF6692\",\"#B6E880\",\"#FF97FF\",\"#FECB52\"],\"font\":{\"color\":\"#2a3f5f\"},\"hovermode\":\"closest\",\"hoverlabel\":{\"align\":\"left\"},\"paper_bgcolor\":\"white\",\"plot_bgcolor\":\"#E5ECF6\",\"polar\":{\"bgcolor\":\"#E5ECF6\",\"angularaxis\":{\"gridcolor\":\"white\",\"linecolor\":\"white\",\"ticks\":\"\"},\"radialaxis\":{\"gridcolor\":\"white\",\"linecolor\":\"white\",\"ticks\":\"\"}},\"ternary\":{\"bgcolor\":\"#E5ECF6\",\"aaxis\":{\"gridcolor\":\"white\",\"linecolor\":\"white\",\"ticks\":\"\"},\"baxis\":{\"gridcolor\":\"white\",\"linecolor\":\"white\",\"ticks\":\"\"},\"caxis\":{\"gridcolor\":\"white\",\"linecolor\":\"white\",\"ticks\":\"\"}},\"coloraxis\":{\"colorbar\":{\"outlinewidth\":0,\"ticks\":\"\"}},\"colorscale\":{\"sequential\":[[0.0,\"#0d0887\"],[0.1111111111111111,\"#46039f\"],[0.2222222222222222,\"#7201a8\"],[0.3333333333333333,\"#9c179e\"],[0.4444444444444444,\"#bd3786\"],[0.5555555555555556,\"#d8576b\"],[0.6666666666666666,\"#ed7953\"],[0.7777777777777778,\"#fb9f3a\"],[0.8888888888888888,\"#fdca26\"],[1.0,\"#f0f921\"]],\"sequentialminus\":[[0.0,\"#0d0887\"],[0.1111111111111111,\"#46039f\"],[0.2222222222222222,\"#7201a8\"],[0.3333333333333333,\"#9c179e\"],[0.4444444444444444,\"#bd3786\"],[0.5555555555555556,\"#d8576b\"],[0.6666666666666666,\"#ed7953\"],[0.7777777777777778,\"#fb9f3a\"],[0.8888888888888888,\"#fdca26\"],[1.0,\"#f0f921\"]],\"diverging\":[[0,\"#8e0152\"],[0.1,\"#c51b7d\"],[0.2,\"#de77ae\"],[0.3,\"#f1b6da\"],[0.4,\"#fde0ef\"],[0.5,\"#f7f7f7\"],[0.6,\"#e6f5d0\"],[0.7,\"#b8e186\"],[0.8,\"#7fbc41\"],[0.9,\"#4d9221\"],[1,\"#276419\"]]},\"xaxis\":{\"gridcolor\":\"white\",\"linecolor\":\"white\",\"ticks\":\"\",\"title\":{\"standoff\":15},\"zerolinecolor\":\"white\",\"automargin\":true,\"zerolinewidth\":2},\"yaxis\":{\"gridcolor\":\"white\",\"linecolor\":\"white\",\"ticks\":\"\",\"title\":{\"standoff\":15},\"zerolinecolor\":\"white\",\"automargin\":true,\"zerolinewidth\":2},\"scene\":{\"xaxis\":{\"backgroundcolor\":\"#E5ECF6\",\"gridcolor\":\"white\",\"linecolor\":\"white\",\"showbackground\":true,\"ticks\":\"\",\"zerolinecolor\":\"white\",\"gridwidth\":2},\"yaxis\":{\"backgroundcolor\":\"#E5ECF6\",\"gridcolor\":\"white\",\"linecolor\":\"white\",\"showbackground\":true,\"ticks\":\"\",\"zerolinecolor\":\"white\",\"gridwidth\":2},\"zaxis\":{\"backgroundcolor\":\"#E5ECF6\",\"gridcolor\":\"white\",\"linecolor\":\"white\",\"showbackground\":true,\"ticks\":\"\",\"zerolinecolor\":\"white\",\"gridwidth\":2}},\"shapedefaults\":{\"line\":{\"color\":\"#2a3f5f\"}},\"annotationdefaults\":{\"arrowcolor\":\"#2a3f5f\",\"arrowhead\":0,\"arrowwidth\":1},\"geo\":{\"bgcolor\":\"white\",\"landcolor\":\"#E5ECF6\",\"subunitcolor\":\"white\",\"showland\":true,\"showlakes\":true,\"lakecolor\":\"white\"},\"title\":{\"x\":0.05},\"mapbox\":{\"style\":\"light\"}}},\"xaxis\":{\"anchor\":\"y\",\"domain\":[0.0,1.0],\"scaleanchor\":\"y\",\"constrain\":\"domain\"},\"yaxis\":{\"anchor\":\"x\",\"domain\":[0.0,1.0],\"autorange\":\"reversed\",\"constrain\":\"domain\"},\"coloraxis\":{\"colorscale\":[[0.0,\"rgb(255, 198, 196)\"],[0.16666666666666666,\"rgb(244, 163, 168)\"],[0.3333333333333333,\"rgb(227, 129, 145)\"],[0.5,\"rgb(204, 96, 125)\"],[0.6666666666666666,\"rgb(173, 70, 108)\"],[0.8333333333333334,\"rgb(139, 48, 88)\"],[1.0,\"rgb(103, 32, 68)\"]]},\"title\":{\"text\":\"Correlation Matrix\"}},                        {\"responsive\": true}                    ).then(function(){\n",
              "                            \n",
              "var gd = document.getElementById('492c4d0e-5d7c-41e6-97c0-a8db11591360');\n",
              "var x = new MutationObserver(function (mutations, observer) {{\n",
              "        var display = window.getComputedStyle(gd).display;\n",
              "        if (!display || display === 'none') {{\n",
              "            console.log([gd, 'removed!']);\n",
              "            Plotly.purge(gd);\n",
              "            observer.disconnect();\n",
              "        }}\n",
              "}});\n",
              "\n",
              "// Listen for the removal of the full notebook cells\n",
              "var notebookContainer = gd.closest('#notebook-container');\n",
              "if (notebookContainer) {{\n",
              "    x.observe(notebookContainer, {childList: true});\n",
              "}}\n",
              "\n",
              "// Listen for the clearing of the current output cell\n",
              "var outputEl = gd.closest('.output');\n",
              "if (outputEl) {{\n",
              "    x.observe(outputEl, {childList: true});\n",
              "}}\n",
              "\n",
              "                        })                };                            </script>        </div>\n",
              "</body>\n",
              "</html>"
            ]
          },
          "metadata": {}
        }
      ]
    },
    {
      "cell_type": "code",
      "source": [
        "'''\n",
        "Correlation Test for Numerical Columns\n",
        "By the result of correlation Test,\n",
        "\n",
        "All columns are related to each other\n",
        "Related columns - '''"
      ],
      "metadata": {
        "id": "SKzXIhFnmvjp"
      },
      "execution_count": null,
      "outputs": []
    },
    {
      "cell_type": "markdown",
      "source": [
        "# **One Tailed test**"
      ],
      "metadata": {
        "id": "bASZ9iD3O8-e"
      }
    },
    {
      "cell_type": "code",
      "source": [
        "#Hypothesis one sample test-sepal_length,,\n",
        "\n",
        "for i in range(20):\n",
        "  sample = df.sepal_length.sample(frac = 0.05)\n",
        "  t_test, p_value = stats.ttest_1samp(sample, df.sepal_length.mean())\n",
        "  if p_value > 0.05:\n",
        "    print(\"H0 Hypothesis null value is accepted, there is no significance difference\")\n",
        "  else:\n",
        "    print(\"H0 Hypothesis null value is rejected, there is a significance difference\")"
      ],
      "metadata": {
        "colab": {
          "base_uri": "https://localhost:8080/"
        },
        "id": "s4YzYi5updyi",
        "outputId": "c60adafd-dbd4-4825-ba88-11ed433f97c5"
      },
      "execution_count": null,
      "outputs": [
        {
          "output_type": "stream",
          "name": "stdout",
          "text": [
            "H0 Hypothesis null value is rejected, there is a significance difference\n",
            "H0 Hypothesis null value is accepted, there is no significance difference\n",
            "H0 Hypothesis null value is accepted, there is no significance difference\n",
            "H0 Hypothesis null value is accepted, there is no significance difference\n",
            "H0 Hypothesis null value is accepted, there is no significance difference\n",
            "H0 Hypothesis null value is accepted, there is no significance difference\n",
            "H0 Hypothesis null value is accepted, there is no significance difference\n",
            "H0 Hypothesis null value is accepted, there is no significance difference\n",
            "H0 Hypothesis null value is accepted, there is no significance difference\n",
            "H0 Hypothesis null value is accepted, there is no significance difference\n",
            "H0 Hypothesis null value is accepted, there is no significance difference\n",
            "H0 Hypothesis null value is accepted, there is no significance difference\n",
            "H0 Hypothesis null value is accepted, there is no significance difference\n",
            "H0 Hypothesis null value is accepted, there is no significance difference\n",
            "H0 Hypothesis null value is accepted, there is no significance difference\n",
            "H0 Hypothesis null value is accepted, there is no significance difference\n",
            "H0 Hypothesis null value is accepted, there is no significance difference\n",
            "H0 Hypothesis null value is accepted, there is no significance difference\n",
            "H0 Hypothesis null value is accepted, there is no significance difference\n",
            "H0 Hypothesis null value is accepted, there is no significance difference\n"
          ]
        }
      ]
    },
    {
      "cell_type": "code",
      "source": [
        "#Hypothesis one sample test- sepal_width\n",
        "\n",
        "for i in range(20):\n",
        "  sample = df.sepal_width.sample(frac = 0.04)\n",
        "  t_test, p_value = stats.ttest_1samp(sample, df.sepal_width.mean())\n",
        "  if p_value > 0.05:\n",
        "    print(\"H0 Hypothesis null value is accepted, there is no significance difference\")\n",
        "  else:\n",
        "    print(\"H0 Hypothesis null value is rejected, there is a significance difference\")"
      ],
      "metadata": {
        "colab": {
          "base_uri": "https://localhost:8080/"
        },
        "id": "U73OPfTdrAfJ",
        "outputId": "c68fc9ac-90b4-4242-b677-e1c81cd8bea9"
      },
      "execution_count": null,
      "outputs": [
        {
          "output_type": "stream",
          "name": "stdout",
          "text": [
            "H0 Hypothesis null value is accepted, there is no significance difference\n",
            "H0 Hypothesis null value is accepted, there is no significance difference\n",
            "H0 Hypothesis null value is accepted, there is no significance difference\n",
            "H0 Hypothesis null value is accepted, there is no significance difference\n",
            "H0 Hypothesis null value is accepted, there is no significance difference\n",
            "H0 Hypothesis null value is accepted, there is no significance difference\n",
            "H0 Hypothesis null value is accepted, there is no significance difference\n",
            "H0 Hypothesis null value is accepted, there is no significance difference\n",
            "H0 Hypothesis null value is accepted, there is no significance difference\n",
            "H0 Hypothesis null value is accepted, there is no significance difference\n",
            "H0 Hypothesis null value is accepted, there is no significance difference\n",
            "H0 Hypothesis null value is accepted, there is no significance difference\n",
            "H0 Hypothesis null value is accepted, there is no significance difference\n",
            "H0 Hypothesis null value is accepted, there is no significance difference\n",
            "H0 Hypothesis null value is accepted, there is no significance difference\n",
            "H0 Hypothesis null value is accepted, there is no significance difference\n",
            "H0 Hypothesis null value is accepted, there is no significance difference\n",
            "H0 Hypothesis null value is accepted, there is no significance difference\n",
            "H0 Hypothesis null value is rejected, there is a significance difference\n",
            "H0 Hypothesis null value is accepted, there is no significance difference\n"
          ]
        }
      ]
    },
    {
      "cell_type": "code",
      "source": [
        "#Hypothesis one sample test- petal_width\n",
        "\n",
        "for i in range(20):\n",
        "  sample = df.petal_width.sample(frac = 0.04)\n",
        "  t_test, p_value = stats.ttest_1samp(sample, df.petal_width.mean())\n",
        "  if p_value > 0.05:\n",
        "    print(\"H0 Hypothesis null value is accepted, there is no significance difference\")\n",
        "  else:\n",
        "    print(\"H0 Hypothesis null value is rejected, there is a significance difference\")"
      ],
      "metadata": {
        "colab": {
          "base_uri": "https://localhost:8080/"
        },
        "id": "MsA06WiNU120",
        "outputId": "5d7d3701-84f3-4abc-b29e-9d9dfd7ac17d"
      },
      "execution_count": null,
      "outputs": [
        {
          "output_type": "stream",
          "name": "stdout",
          "text": [
            "H0 Hypothesis null value is accepted, there is no significance difference\n",
            "H0 Hypothesis null value is accepted, there is no significance difference\n",
            "H0 Hypothesis null value is accepted, there is no significance difference\n",
            "H0 Hypothesis null value is accepted, there is no significance difference\n",
            "H0 Hypothesis null value is accepted, there is no significance difference\n",
            "H0 Hypothesis null value is accepted, there is no significance difference\n",
            "H0 Hypothesis null value is accepted, there is no significance difference\n",
            "H0 Hypothesis null value is accepted, there is no significance difference\n",
            "H0 Hypothesis null value is accepted, there is no significance difference\n",
            "H0 Hypothesis null value is rejected, there is a significance difference\n",
            "H0 Hypothesis null value is accepted, there is no significance difference\n",
            "H0 Hypothesis null value is accepted, there is no significance difference\n",
            "H0 Hypothesis null value is accepted, there is no significance difference\n",
            "H0 Hypothesis null value is accepted, there is no significance difference\n",
            "H0 Hypothesis null value is accepted, there is no significance difference\n",
            "H0 Hypothesis null value is accepted, there is no significance difference\n",
            "H0 Hypothesis null value is accepted, there is no significance difference\n",
            "H0 Hypothesis null value is accepted, there is no significance difference\n",
            "H0 Hypothesis null value is accepted, there is no significance difference\n",
            "H0 Hypothesis null value is accepted, there is no significance difference\n"
          ]
        }
      ]
    },
    {
      "cell_type": "code",
      "source": [
        "#Hypothesis one sample test- petal_length\n",
        "\n",
        "for i in range(20):\n",
        "  sample = df.petal_length.sample(frac = 0.04)\n",
        "  t_test, p_value = stats.ttest_1samp(sample, df.petal_length.mean())\n",
        "  if p_value > 0.05:\n",
        "    print(\"H0 Hypothesis null value is accepted, there is no significance difference\")\n",
        "  else:\n",
        "    print(\"H0 Hypothesis null value is rejected, there is a significance difference\")"
      ],
      "metadata": {
        "colab": {
          "base_uri": "https://localhost:8080/"
        },
        "id": "QwzTLt6TU1wM",
        "outputId": "ee218e64-d974-49e4-feeb-38584379e257"
      },
      "execution_count": null,
      "outputs": [
        {
          "output_type": "stream",
          "name": "stdout",
          "text": [
            "H0 Hypothesis null value is accepted, there is no significance difference\n",
            "H0 Hypothesis null value is rejected, there is a significance difference\n",
            "H0 Hypothesis null value is rejected, there is a significance difference\n",
            "H0 Hypothesis null value is accepted, there is no significance difference\n",
            "H0 Hypothesis null value is accepted, there is no significance difference\n",
            "H0 Hypothesis null value is accepted, there is no significance difference\n",
            "H0 Hypothesis null value is accepted, there is no significance difference\n",
            "H0 Hypothesis null value is accepted, there is no significance difference\n",
            "H0 Hypothesis null value is accepted, there is no significance difference\n",
            "H0 Hypothesis null value is accepted, there is no significance difference\n",
            "H0 Hypothesis null value is rejected, there is a significance difference\n",
            "H0 Hypothesis null value is accepted, there is no significance difference\n",
            "H0 Hypothesis null value is rejected, there is a significance difference\n",
            "H0 Hypothesis null value is accepted, there is no significance difference\n",
            "H0 Hypothesis null value is accepted, there is no significance difference\n",
            "H0 Hypothesis null value is accepted, there is no significance difference\n",
            "H0 Hypothesis null value is accepted, there is no significance difference\n",
            "H0 Hypothesis null value is rejected, there is a significance difference\n",
            "H0 Hypothesis null value is accepted, there is no significance difference\n",
            "H0 Hypothesis null value is accepted, there is no significance difference\n"
          ]
        }
      ]
    },
    {
      "cell_type": "markdown",
      "source": [
        "# **Two sample Test**"
      ],
      "metadata": {
        "id": "W66hU4kiPHBQ"
      }
    },
    {
      "cell_type": "code",
      "source": [
        "'''sepal_length vs sepal_width          rejected\n",
        "    sepal_length vs petal_length        rejected\n",
        "    sepal_length vs petal_width         rejected\n",
        "\n",
        "    sepal_width vs petal_length         rejected\n",
        "    sepal_width vs petal_width          rejected\n",
        "\n",
        "    petal_length vs petal_width         rejected'''"
      ],
      "metadata": {
        "id": "xpvpNiLjVZv0"
      },
      "execution_count": null,
      "outputs": []
    },
    {
      "cell_type": "code",
      "source": [
        "#Hypothesis two sample ttest - sepal_length vs sepal_width\n",
        "\n",
        "for i in range(20):\n",
        "  sample1 = df.sepal_length.sample(frac=0.04)\n",
        "  sample2 = df.sepal_width.sample(frac=0.05)\n",
        "  t_value, p_value = stats.ttest_ind(sample1, sample2)\n",
        "\n",
        "  if p_value > 0.05:\n",
        "    print(\"H0 Null hypothesis is accepted and there is no significance difference between two columns\")\n",
        "  else:\n",
        "    print(\"H0 Null hypothesis is rejected and there is a significance difference between two columns\")\n",
        "\n",
        "#H0 is rejected"
      ],
      "metadata": {
        "id": "Bt9ML8eRmvhY",
        "colab": {
          "base_uri": "https://localhost:8080/"
        },
        "outputId": "6cd4932f-d8de-4c3c-b0fa-46516bffc551"
      },
      "execution_count": null,
      "outputs": [
        {
          "output_type": "stream",
          "name": "stdout",
          "text": [
            "H0 Null hypothesis is rejected and there is a significance difference between two columns\n",
            "H0 Null hypothesis is rejected and there is a significance difference between two columns\n",
            "H0 Null hypothesis is rejected and there is a significance difference between two columns\n",
            "H0 Null hypothesis is rejected and there is a significance difference between two columns\n",
            "H0 Null hypothesis is rejected and there is a significance difference between two columns\n",
            "H0 Null hypothesis is rejected and there is a significance difference between two columns\n",
            "H0 Null hypothesis is rejected and there is a significance difference between two columns\n",
            "H0 Null hypothesis is rejected and there is a significance difference between two columns\n",
            "H0 Null hypothesis is rejected and there is a significance difference between two columns\n",
            "H0 Null hypothesis is rejected and there is a significance difference between two columns\n",
            "H0 Null hypothesis is rejected and there is a significance difference between two columns\n",
            "H0 Null hypothesis is rejected and there is a significance difference between two columns\n",
            "H0 Null hypothesis is rejected and there is a significance difference between two columns\n",
            "H0 Null hypothesis is rejected and there is a significance difference between two columns\n",
            "H0 Null hypothesis is rejected and there is a significance difference between two columns\n",
            "H0 Null hypothesis is rejected and there is a significance difference between two columns\n",
            "H0 Null hypothesis is rejected and there is a significance difference between two columns\n",
            "H0 Null hypothesis is rejected and there is a significance difference between two columns\n",
            "H0 Null hypothesis is rejected and there is a significance difference between two columns\n",
            "H0 Null hypothesis is rejected and there is a significance difference between two columns\n"
          ]
        }
      ]
    },
    {
      "cell_type": "code",
      "source": [
        "#Hypothesis two sample ttest -  sepal_length vs petal_length\n",
        "\n",
        "for i in range(20):\n",
        "  sample1 = df.sepal_length.sample(frac=0.04)\n",
        "  sample2 = df.petal_length.sample(frac=0.05)\n",
        "  t_value, p_value = stats.ttest_ind(sample1, sample2)\n",
        "\n",
        "  if p_value > 0.05:\n",
        "    print(\"H0 Null hypothesis is accepted and there is no significance difference between two columns\")\n",
        "  else:\n",
        "    print(\"H0 Null hypothesis is rejected and there is a significance difference between two columns\")\n",
        "\n",
        "#H0 is rejected"
      ],
      "metadata": {
        "colab": {
          "base_uri": "https://localhost:8080/"
        },
        "id": "ZQIV15u0VyfV",
        "outputId": "af6b4af7-a3be-4837-89e1-1865813dc16f"
      },
      "execution_count": null,
      "outputs": [
        {
          "output_type": "stream",
          "name": "stdout",
          "text": [
            "H0 Null hypothesis is rejected and there is a significance difference between two columns\n",
            "H0 Null hypothesis is accepted and there is no significance difference between two columns\n",
            "H0 Null hypothesis is rejected and there is a significance difference between two columns\n",
            "H0 Null hypothesis is rejected and there is a significance difference between two columns\n",
            "H0 Null hypothesis is rejected and there is a significance difference between two columns\n",
            "H0 Null hypothesis is rejected and there is a significance difference between two columns\n",
            "H0 Null hypothesis is rejected and there is a significance difference between two columns\n",
            "H0 Null hypothesis is accepted and there is no significance difference between two columns\n",
            "H0 Null hypothesis is accepted and there is no significance difference between two columns\n",
            "H0 Null hypothesis is rejected and there is a significance difference between two columns\n",
            "H0 Null hypothesis is rejected and there is a significance difference between two columns\n",
            "H0 Null hypothesis is accepted and there is no significance difference between two columns\n",
            "H0 Null hypothesis is rejected and there is a significance difference between two columns\n",
            "H0 Null hypothesis is rejected and there is a significance difference between two columns\n",
            "H0 Null hypothesis is rejected and there is a significance difference between two columns\n",
            "H0 Null hypothesis is rejected and there is a significance difference between two columns\n",
            "H0 Null hypothesis is rejected and there is a significance difference between two columns\n",
            "H0 Null hypothesis is rejected and there is a significance difference between two columns\n",
            "H0 Null hypothesis is accepted and there is no significance difference between two columns\n",
            "H0 Null hypothesis is accepted and there is no significance difference between two columns\n"
          ]
        }
      ]
    },
    {
      "cell_type": "code",
      "source": [
        "#Hypothesis two sample ttest - sepal_length vs petal_width\n",
        "\n",
        "for i in range(20):\n",
        "  sample1 = df.sepal_length.sample(frac=0.04)\n",
        "  sample2 = df.petal_width.sample(frac=0.05)\n",
        "  t_value, p_value = stats.ttest_ind(sample1, sample2)\n",
        "\n",
        "  if p_value > 0.05:\n",
        "    print(\"H0 Null hypothesis is accepted and there is no significance difference between two columns\")\n",
        "  else:\n",
        "    print(\"H0 Null hypothesis is rejected and there is a significance difference between two columns\")\n",
        "\n",
        "#H0 is rejected"
      ],
      "metadata": {
        "colab": {
          "base_uri": "https://localhost:8080/"
        },
        "id": "eyNhtURSV1DM",
        "outputId": "74d6142c-b576-4cf6-ec8b-73dff13c3e6b"
      },
      "execution_count": null,
      "outputs": [
        {
          "output_type": "stream",
          "name": "stdout",
          "text": [
            "H0 Null hypothesis is rejected and there is a significance difference between two columns\n",
            "H0 Null hypothesis is rejected and there is a significance difference between two columns\n",
            "H0 Null hypothesis is rejected and there is a significance difference between two columns\n",
            "H0 Null hypothesis is rejected and there is a significance difference between two columns\n",
            "H0 Null hypothesis is rejected and there is a significance difference between two columns\n",
            "H0 Null hypothesis is rejected and there is a significance difference between two columns\n",
            "H0 Null hypothesis is rejected and there is a significance difference between two columns\n",
            "H0 Null hypothesis is rejected and there is a significance difference between two columns\n",
            "H0 Null hypothesis is rejected and there is a significance difference between two columns\n",
            "H0 Null hypothesis is rejected and there is a significance difference between two columns\n",
            "H0 Null hypothesis is rejected and there is a significance difference between two columns\n",
            "H0 Null hypothesis is rejected and there is a significance difference between two columns\n",
            "H0 Null hypothesis is rejected and there is a significance difference between two columns\n",
            "H0 Null hypothesis is rejected and there is a significance difference between two columns\n",
            "H0 Null hypothesis is rejected and there is a significance difference between two columns\n",
            "H0 Null hypothesis is rejected and there is a significance difference between two columns\n",
            "H0 Null hypothesis is rejected and there is a significance difference between two columns\n",
            "H0 Null hypothesis is rejected and there is a significance difference between two columns\n",
            "H0 Null hypothesis is rejected and there is a significance difference between two columns\n",
            "H0 Null hypothesis is rejected and there is a significance difference between two columns\n"
          ]
        }
      ]
    },
    {
      "cell_type": "code",
      "source": [
        "#Hypothesis two sample ttest - sepal_width vs petal_length\n",
        "\n",
        "for i in range(20):\n",
        "  sample1 = df.sepal_width.sample(frac=0.04)\n",
        "  sample2 = df.sepal_length.sample(frac=0.05)\n",
        "  t_value, p_value = stats.ttest_ind(sample1, sample2)\n",
        "\n",
        "  if p_value > 0.05:\n",
        "    print(\"H0 Null hypothesis is accepted and there is no significance difference between two columns\")\n",
        "  else:\n",
        "    print(\"H0 Null hypothesis is rejected and there is a significance difference between two columns\")\n",
        "\n",
        "#H0 is rejected"
      ],
      "metadata": {
        "colab": {
          "base_uri": "https://localhost:8080/"
        },
        "id": "LSyUoub3V09d",
        "outputId": "1b5a24b7-0079-4e2f-a991-caf4ec5c836f"
      },
      "execution_count": null,
      "outputs": [
        {
          "output_type": "stream",
          "name": "stdout",
          "text": [
            "H0 Null hypothesis is rejected and there is a significance difference between two columns\n",
            "H0 Null hypothesis is rejected and there is a significance difference between two columns\n",
            "H0 Null hypothesis is rejected and there is a significance difference between two columns\n",
            "H0 Null hypothesis is rejected and there is a significance difference between two columns\n",
            "H0 Null hypothesis is rejected and there is a significance difference between two columns\n",
            "H0 Null hypothesis is rejected and there is a significance difference between two columns\n",
            "H0 Null hypothesis is rejected and there is a significance difference between two columns\n",
            "H0 Null hypothesis is rejected and there is a significance difference between two columns\n",
            "H0 Null hypothesis is rejected and there is a significance difference between two columns\n",
            "H0 Null hypothesis is rejected and there is a significance difference between two columns\n",
            "H0 Null hypothesis is rejected and there is a significance difference between two columns\n",
            "H0 Null hypothesis is rejected and there is a significance difference between two columns\n",
            "H0 Null hypothesis is rejected and there is a significance difference between two columns\n",
            "H0 Null hypothesis is rejected and there is a significance difference between two columns\n",
            "H0 Null hypothesis is rejected and there is a significance difference between two columns\n",
            "H0 Null hypothesis is rejected and there is a significance difference between two columns\n",
            "H0 Null hypothesis is rejected and there is a significance difference between two columns\n",
            "H0 Null hypothesis is rejected and there is a significance difference between two columns\n",
            "H0 Null hypothesis is rejected and there is a significance difference between two columns\n",
            "H0 Null hypothesis is rejected and there is a significance difference between two columns\n"
          ]
        }
      ]
    },
    {
      "cell_type": "code",
      "source": [
        "#Hypothesis two sample ttest - sepal_width vs petal_width\n",
        "\n",
        "for i in range(20):\n",
        "  sample1 = df.sepal_width.sample(frac=0.04)\n",
        "  sample2 = df.petal_width.sample(frac=0.05)\n",
        "  t_value, p_value = stats.ttest_ind(sample1, sample2)\n",
        "\n",
        "  if p_value > 0.05:\n",
        "    print(\"H0 Null hypothesis is accepted and there is no significance difference between two columns\")\n",
        "  else:\n",
        "    print(\"H0 Null hypothesis is rejected and there is a significance difference between two columns\")\n",
        "\n",
        "#H0 is rejected"
      ],
      "metadata": {
        "colab": {
          "base_uri": "https://localhost:8080/"
        },
        "id": "IbNBFxiCV03d",
        "outputId": "62537dd2-b496-4f55-91dc-0e9899ffa73c"
      },
      "execution_count": null,
      "outputs": [
        {
          "output_type": "stream",
          "name": "stdout",
          "text": [
            "H0 Null hypothesis is rejected and there is a significance difference between two columns\n",
            "H0 Null hypothesis is rejected and there is a significance difference between two columns\n",
            "H0 Null hypothesis is rejected and there is a significance difference between two columns\n",
            "H0 Null hypothesis is rejected and there is a significance difference between two columns\n",
            "H0 Null hypothesis is rejected and there is a significance difference between two columns\n",
            "H0 Null hypothesis is rejected and there is a significance difference between two columns\n",
            "H0 Null hypothesis is rejected and there is a significance difference between two columns\n",
            "H0 Null hypothesis is rejected and there is a significance difference between two columns\n",
            "H0 Null hypothesis is rejected and there is a significance difference between two columns\n",
            "H0 Null hypothesis is rejected and there is a significance difference between two columns\n",
            "H0 Null hypothesis is rejected and there is a significance difference between two columns\n",
            "H0 Null hypothesis is rejected and there is a significance difference between two columns\n",
            "H0 Null hypothesis is rejected and there is a significance difference between two columns\n",
            "H0 Null hypothesis is rejected and there is a significance difference between two columns\n",
            "H0 Null hypothesis is rejected and there is a significance difference between two columns\n",
            "H0 Null hypothesis is rejected and there is a significance difference between two columns\n",
            "H0 Null hypothesis is rejected and there is a significance difference between two columns\n",
            "H0 Null hypothesis is rejected and there is a significance difference between two columns\n",
            "H0 Null hypothesis is rejected and there is a significance difference between two columns\n",
            "H0 Null hypothesis is rejected and there is a significance difference between two columns\n"
          ]
        }
      ]
    },
    {
      "cell_type": "code",
      "source": [
        "#Hypothesis two sample ttest -  petal_length vs petal_width\n",
        "\n",
        "for i in range(20):\n",
        "  sample1 = df.petal_length.sample(frac=0.04)\n",
        "  sample2 = df.petal_width.sample(frac=0.05)\n",
        "  t_value, p_value = stats.ttest_ind(sample1, sample2)\n",
        "\n",
        "  if p_value > 0.05:\n",
        "    print(\"H0 Null hypothesis is accepted and there is no significance difference between two columns\")\n",
        "  else:\n",
        "    print(\"H0 Null hypothesis is rejected and there is a significance difference between two columns\")\n",
        "\n",
        "#H0 is rejected"
      ],
      "metadata": {
        "colab": {
          "base_uri": "https://localhost:8080/"
        },
        "id": "quD5RKTxV0w2",
        "outputId": "8ac3fc65-474c-42b1-d29f-df4dc00e97b4"
      },
      "execution_count": null,
      "outputs": [
        {
          "output_type": "stream",
          "name": "stdout",
          "text": [
            "H0 Null hypothesis is rejected and there is a significance difference between two columns\n",
            "H0 Null hypothesis is accepted and there is no significance difference between two columns\n",
            "H0 Null hypothesis is rejected and there is a significance difference between two columns\n",
            "H0 Null hypothesis is accepted and there is no significance difference between two columns\n",
            "H0 Null hypothesis is rejected and there is a significance difference between two columns\n",
            "H0 Null hypothesis is rejected and there is a significance difference between two columns\n",
            "H0 Null hypothesis is rejected and there is a significance difference between two columns\n",
            "H0 Null hypothesis is rejected and there is a significance difference between two columns\n",
            "H0 Null hypothesis is rejected and there is a significance difference between two columns\n",
            "H0 Null hypothesis is rejected and there is a significance difference between two columns\n",
            "H0 Null hypothesis is rejected and there is a significance difference between two columns\n",
            "H0 Null hypothesis is rejected and there is a significance difference between two columns\n",
            "H0 Null hypothesis is rejected and there is a significance difference between two columns\n",
            "H0 Null hypothesis is rejected and there is a significance difference between two columns\n",
            "H0 Null hypothesis is rejected and there is a significance difference between two columns\n",
            "H0 Null hypothesis is rejected and there is a significance difference between two columns\n",
            "H0 Null hypothesis is rejected and there is a significance difference between two columns\n",
            "H0 Null hypothesis is rejected and there is a significance difference between two columns\n",
            "H0 Null hypothesis is rejected and there is a significance difference between two columns\n",
            "H0 Null hypothesis is rejected and there is a significance difference between two columns\n"
          ]
        }
      ]
    },
    {
      "cell_type": "markdown",
      "source": [
        "# **ANOVA Test**"
      ],
      "metadata": {
        "id": "pFHsNu7JXF0V"
      }
    },
    {
      "cell_type": "code",
      "source": [
        "df.species.unique()"
      ],
      "metadata": {
        "colab": {
          "base_uri": "https://localhost:8080/"
        },
        "id": "9w3QMyEBXuEM",
        "outputId": "d757ca06-a108-435d-d020-441c9d5d394d"
      },
      "execution_count": null,
      "outputs": [
        {
          "output_type": "execute_result",
          "data": {
            "text/plain": [
              "array(['Iris-setosa', 'Iris-versicolor', 'Iris-virginica'], dtype=object)"
            ]
          },
          "metadata": {},
          "execution_count": 24
        }
      ]
    },
    {
      "cell_type": "code",
      "source": [
        "  #species vs sepal_length\n",
        "group = df['species'].unique()\n",
        "data = {}\n",
        "for i in group:\n",
        "  data[i]=df[\"sepal_length\"][df[\"species\"]==i]\n",
        "\n",
        "f_value, p_value = stats.f_oneway( data['Iris-setosa'], data['Iris-versicolor'],data['Iris-virginica'] )\n",
        "print(f_value, p_value)\n",
        "if p_value<0.05:\n",
        "  print(\"H0 - Null hypothesis is rejected which means no relationship exists\")\n",
        "else:\n",
        "  print(\"Ha - Null hypothesis is accepted which means relationship exists\")"
      ],
      "metadata": {
        "colab": {
          "base_uri": "https://localhost:8080/"
        },
        "id": "Rz0ND9GwXJnE",
        "outputId": "9fde1934-ed29-496d-b1c5-24b2a72960dd"
      },
      "execution_count": null,
      "outputs": [
        {
          "output_type": "stream",
          "name": "stdout",
          "text": [
            "119.26450218450468 1.6696691907693826e-31\n",
            "H0 - Null hypothesis is rejected which means no relationship exists\n"
          ]
        }
      ]
    },
    {
      "cell_type": "code",
      "source": [
        "# species vs sepal_width\n",
        "group = df['species'].unique()\n",
        "data = {}\n",
        "for i in group:\n",
        "  data[i]=df[\"sepal_width\"][df[\"species\"]==i]\n",
        "\n",
        "f_value, p_value = stats.f_oneway( data['Iris-setosa'], data['Iris-versicolor'],data['Iris-virginica'] )\n",
        "print(f_value, p_value)\n",
        "if p_value<0.05:\n",
        "  print(\"H0 - Null hypothesis is rejected which means no relationship exists\")\n",
        "else:\n",
        "  print(\"Ha - Null hypothesis is accepted which means relationship exists\")"
      ],
      "metadata": {
        "colab": {
          "base_uri": "https://localhost:8080/"
        },
        "id": "JRVdLHmjYBSt",
        "outputId": "587f756c-a817-493b-a689-6ac4cdafd0ad"
      },
      "execution_count": null,
      "outputs": [
        {
          "output_type": "stream",
          "name": "stdout",
          "text": [
            "47.36446140299382 1.3279165184572242e-16\n",
            "H0 - Null hypothesis is rejected which means no relationship exists\n"
          ]
        }
      ]
    },
    {
      "cell_type": "code",
      "source": [
        "#species vs petal_length\n",
        "group = df['species'].unique()\n",
        "data = {}\n",
        "for i in group:\n",
        "  data[i]=df[\"petal_length\"][df[\"species\"]==i]\n",
        "\n",
        "f_value, p_value = stats.f_oneway( data['Iris-setosa'], data['Iris-versicolor'],data['Iris-virginica'] )\n",
        "print(f_value, p_value)\n",
        "if p_value<0.05:\n",
        "  print(\"H0 - Null hypothesis is rejected which means no relationship exists\")\n",
        "else:\n",
        "  print(\"Ha - Null hypothesis is accepted which means relationship exists\")"
      ],
      "metadata": {
        "colab": {
          "base_uri": "https://localhost:8080/"
        },
        "id": "kSPEAFVsYC6b",
        "outputId": "c7f227a6-a5bf-49cd-9a1a-654d6b9a0404"
      },
      "execution_count": null,
      "outputs": [
        {
          "output_type": "stream",
          "name": "stdout",
          "text": [
            "1179.0343277002194 3.0519758018278374e-91\n",
            "H0 - Null hypothesis is rejected which means no relationship exists\n"
          ]
        }
      ]
    },
    {
      "cell_type": "code",
      "source": [
        "#species vs petal_width\n",
        "group = df['species'].unique()\n",
        "data = {}\n",
        "for i in group:\n",
        "  data[i]=df[\"petal_width\"][df[\"species\"]==i]\n",
        "\n",
        "f_value, p_value = stats.f_oneway( data['Iris-setosa'], data['Iris-versicolor'],data['Iris-virginica'] )\n",
        "print(f_value, p_value)\n",
        "if p_value<0.05:\n",
        "  print(\"H0 - Null hypothesis is rejected which means no relationship exists\")\n",
        "else:\n",
        "  print(\"Ha - Null hypothesis is accepted which means relationship exists\")"
      ],
      "metadata": {
        "colab": {
          "base_uri": "https://localhost:8080/"
        },
        "id": "oz_dX26JYEKr",
        "outputId": "4ad7a3c9-ba71-40e6-cf01-440f3c045f72"
      },
      "execution_count": null,
      "outputs": [
        {
          "output_type": "stream",
          "name": "stdout",
          "text": [
            "959.3244057257613 4.376956957488959e-85\n",
            "H0 - Null hypothesis is rejected which means no relationship exists\n"
          ]
        }
      ]
    }
  ]
}